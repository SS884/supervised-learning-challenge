{
 "cells": [
  {
   "cell_type": "code",
   "execution_count": 24,
   "id": "f0914de8",
   "metadata": {},
   "outputs": [],
   "source": [
    "import numpy as np\n",
    "import pandas as pd\n",
    "from pathlib import Path\n",
    "from sklearn.preprocessing import StandardScaler"
   ]
  },
  {
   "cell_type": "code",
   "execution_count": 25,
   "id": "90bae131",
   "metadata": {},
   "outputs": [],
   "source": [
    "train_df = pd.read_csv(Path('2019loans.csv'))\n",
    "test_df = pd.read_csv(Path('2020Q1loans.csv'))"
   ]
  },
  {
   "cell_type": "code",
   "execution_count": 26,
   "id": "d1d51334",
   "metadata": {},
   "outputs": [],
   "source": [
    "# add missing dummy variables to testing set"
   ]
  },
  {
   "cell_type": "code",
   "execution_count": 27,
   "id": "062e4f63",
   "metadata": {},
   "outputs": [
    {
     "data": {
      "text/plain": [
       "0        0\n",
       "1        0\n",
       "2        0\n",
       "3        0\n",
       "4        0\n",
       "        ..\n",
       "12175    1\n",
       "12176    1\n",
       "12177    1\n",
       "12178    1\n",
       "12179    1\n",
       "Name: target, Length: 12180, dtype: int64"
      ]
     },
     "execution_count": 27,
     "metadata": {},
     "output_type": "execute_result"
    }
   ],
   "source": [
    "X_train = pd.get_dummies(train_df.drop(columns=['target']))\n",
    "y_train = train_df[\"target\"]\n",
    "\n",
    "label_mapping = {\"low_risk\":0, \"high_risk\":1}\n",
    "y_train =  train_df[\"target\"].map(label_mapping)\n",
    "y_train"
   ]
  },
  {
   "cell_type": "code",
   "execution_count": 28,
   "id": "11c55193",
   "metadata": {},
   "outputs": [
    {
     "data": {
      "text/plain": [
       "0       0\n",
       "1       0\n",
       "2       0\n",
       "3       0\n",
       "4       0\n",
       "       ..\n",
       "4697    1\n",
       "4698    1\n",
       "4699    1\n",
       "4700    1\n",
       "4701    1\n",
       "Name: target, Length: 4702, dtype: int64"
      ]
     },
     "execution_count": 28,
     "metadata": {},
     "output_type": "execute_result"
    }
   ],
   "source": [
    "X_test = pd.get_dummies(test_df.drop(columns=['target']))\n",
    "y_test = test_df['target']\n",
    "y_test =  test_df[\"target\"].map(label_mapping)\n",
    "y_test"
   ]
  },
  {
   "cell_type": "code",
   "execution_count": 29,
   "id": "b2f40408",
   "metadata": {},
   "outputs": [],
   "source": [
    "for col in X_train.columns:\n",
    "    if col not in X_test.columns:\n",
    "        X_test[col] = 0"
   ]
  },
  {
   "cell_type": "code",
   "execution_count": null,
   "id": "835f130f",
   "metadata": {},
   "outputs": [],
   "source": [
    "# I would predict that the  model on unscaled data woud be best as logistic regression "
   ]
  },
  {
   "cell_type": "code",
   "execution_count": 30,
   "id": "cabbf5bd",
   "metadata": {},
   "outputs": [
    {
     "data": {
      "text/plain": [
       "0.5603998298596342"
      ]
     },
     "execution_count": 30,
     "metadata": {},
     "output_type": "execute_result"
    }
   ],
   "source": [
    "# Train the Logistic Regression model on the unscaled data and print the model score\n",
    "from sklearn.linear_model import LogisticRegression\n",
    "classifier = LogisticRegression(solver=\"liblinear\", random_state=1 )\n",
    "classifier.fit(X_train, y_train)\n",
    "classifier.score(X_test, y_test)"
   ]
  },
  {
   "cell_type": "code",
   "execution_count": 31,
   "id": "4d7d0ce5",
   "metadata": {},
   "outputs": [
    {
     "data": {
      "text/plain": [
       "0.6399404508719694"
      ]
     },
     "execution_count": 31,
     "metadata": {},
     "output_type": "execute_result"
    }
   ],
   "source": [
    "# Train a Random Forest Classifier model and print the model score\n",
    "from sklearn.ensemble import RandomForestClassifier\n",
    "clf = RandomForestClassifier()\n",
    "clf.fit(X_train, y_train)\n",
    "clf.score(X_test, y_test)"
   ]
  },
  {
   "cell_type": "code",
   "execution_count": 34,
   "id": "a1fe2db8",
   "metadata": {},
   "outputs": [
    {
     "data": {
      "text/plain": [
       "array([[ 2.22409871, -0.71763657,  1.1957456 , ...,  5.93717104,\n",
       "         0.02026518, -0.02026518],\n",
       "       [ 0.70076538,  0.03728883,  0.22835062, ..., -0.16843038,\n",
       "         0.02026518, -0.02026518],\n",
       "       [-0.37193558,  0.03728883, -0.64632203, ...,  5.93717104,\n",
       "         0.02026518, -0.02026518],\n",
       "       ...,\n",
       "       [-0.71480803,  1.70116722, -0.40375715, ..., -0.16843038,\n",
       "         0.02026518, -0.02026518],\n",
       "       [-0.91073515,  0.85876936, -1.0227017 , ..., -0.16843038,\n",
       "         0.02026518, -0.02026518],\n",
       "       [ 1.24446313,  1.2257734 ,  2.10605445, ..., -0.16843038,\n",
       "         0.02026518, -0.02026518]])"
      ]
     },
     "execution_count": 34,
     "metadata": {},
     "output_type": "execute_result"
    }
   ],
   "source": [
    "# Scaling the X data by using StandardScaler()\n",
    "scaler = StandardScaler().fit(X_train)\n",
    "X_train_scaled = scaler.transform(X_train)\n",
    "X_train_scaled   \n",
    "\n",
    "X_test_scaled = scaler.transform(X_test)\n",
    "X_test_scaled "
   ]
  },
  {
   "cell_type": "code",
   "execution_count": null,
   "id": "3328c956",
   "metadata": {},
   "outputs": [],
   "source": [
    "# I predict the linear regression model is the best as with features greater than 50, it is shown to be better."
   ]
  },
  {
   "cell_type": "code",
   "execution_count": 36,
   "id": "134466ed",
   "metadata": {},
   "outputs": [
    {
     "data": {
      "text/plain": [
       "0.75903870693322"
      ]
     },
     "execution_count": 36,
     "metadata": {},
     "output_type": "execute_result"
    }
   ],
   "source": [
    "# Train the Logistic Regression model on the scaled data and print the model score\n",
    "from sklearn.linear_model import LogisticRegression\n",
    "classifier = LogisticRegression(solver=\"liblinear\", random_state=1 )\n",
    "classifier.fit(X_train_scaled, y_train)\n",
    "classifier.score(X_test_scaled, y_test)"
   ]
  },
  {
   "cell_type": "code",
   "execution_count": 37,
   "id": "11e7ed22",
   "metadata": {},
   "outputs": [
    {
     "data": {
      "text/plain": [
       "0.6376010208421948"
      ]
     },
     "execution_count": 37,
     "metadata": {},
     "output_type": "execute_result"
    }
   ],
   "source": [
    "# Train a Random Forest Classifier model on the scaled data and print the model score\n",
    "from sklearn.ensemble import RandomForestClassifier\n",
    "clf = RandomForestClassifier()\n",
    "clf.fit(X_train_scaled, y_train)\n",
    "clf.score(X_test_scaled, y_test)"
   ]
  },
  {
   "cell_type": "code",
   "execution_count": null,
   "id": "cf6b45f0",
   "metadata": {},
   "outputs": [],
   "source": []
  }
 ],
 "metadata": {
  "kernelspec": {
   "display_name": "Python 3 (ipykernel)",
   "language": "python",
   "name": "python3"
  },
  "language_info": {
   "codemirror_mode": {
    "name": "ipython",
    "version": 3
   },
   "file_extension": ".py",
   "mimetype": "text/x-python",
   "name": "python",
   "nbconvert_exporter": "python",
   "pygments_lexer": "ipython3",
   "version": "3.8.8"
  }
 },
 "nbformat": 4,
 "nbformat_minor": 5
}
